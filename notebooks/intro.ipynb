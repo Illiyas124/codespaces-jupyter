{
 "cells": [
  {
   "cell_type": "code",
   "execution_count": 6,
   "metadata": {},
   "outputs": [
    {
     "name": "stdout",
     "output_type": "stream",
     "text": [
      "Hello world!* Python 3\n"
     ]
    }
   ],
   "source": [
    "print(\"Hello world!\", end = \"* \") \n",
    "print(\"Python 3\")\n"
   ]
  },
  {
   "cell_type": "code",
   "execution_count": 8,
   "metadata": {},
   "outputs": [
    {
     "name": "stdout",
     "output_type": "stream",
     "text": [
      "IT AMC TEC\n",
      "IT - AMC - TEC\n"
     ]
    }
   ],
   "source": [
    "print(\"IT\",\"AMC\",\"TEC\")\n",
    "print(\"IT\",\"AMC\",\"TEC\", sep= \" - \") "
   ]
  },
  {
   "cell_type": "code",
   "execution_count": 9,
   "metadata": {},
   "outputs": [
    {
     "name": "stdout",
     "output_type": "stream",
     "text": [
      "PYTHON - JAVA - PHP!\n",
      "IT/AMC/TEC!"
     ]
    }
   ],
   "source": [
    "print(\"PYTHON\",\"JAVA\",\"PHP\",sep=\" - \",end=\"!\\n\")\n",
    "print(\"IT\",\"AMC\",\"TEC\",sep=\"/\" , end=\"!\")"
   ]
  },
  {
   "cell_type": "code",
   "execution_count": 20,
   "metadata": {},
   "outputs": [
    {
     "name": "stdout",
     "output_type": "stream",
     "text": [
      "aa\n",
      "4\n",
      "a\n",
      "aa\n",
      "aa\n"
     ]
    }
   ],
   "source": [
    "print('a'*2)\n",
    "a  = 2\n",
    "print(a*2)\n",
    "print('a')\n",
    "print(\"a\"*2)\n",
    "print('a'*a)\n"
   ]
  },
  {
   "cell_type": "code",
   "execution_count": 45,
   "metadata": {},
   "outputs": [
    {
     "name": "stdout",
     "output_type": "stream",
     "text": [
      "*\n",
      "\n",
      "\n"
     ]
    }
   ],
   "source": [
    "print('*',end='\\n'*3)"
   ]
  },
  {
   "cell_type": "code",
   "execution_count": 46,
   "metadata": {},
   "outputs": [
    {
     "name": "stdout",
     "output_type": "stream",
     "text": [
      "****\n",
      "***\n",
      "**\n",
      "*\n"
     ]
    }
   ],
   "source": [
    "print('*'*4)\n",
    "print('*'*3)\n",
    "print('*'*2)\n",
    "print('*'*1)"
   ]
  },
  {
   "cell_type": "markdown",
   "metadata": {},
   "source": []
  },
  {
   "cell_type": "code",
   "execution_count": 51,
   "metadata": {},
   "outputs": [
    {
     "name": "stdout",
     "output_type": "stream",
     "text": [
      "20000.0\n",
      "0.0002\n"
     ]
    }
   ],
   "source": [
    "print(2E4)\n",
    "print(2e-4)# exponent\n",
    "\n",
    "\n"
   ]
  },
  {
   "cell_type": "code",
   "execution_count": 56,
   "metadata": {},
   "outputs": [
    {
     "name": "stdout",
     "output_type": "stream",
     "text": [
      "python\n",
      "p+h"
     ]
    }
   ],
   "source": [
    "subject = \"python\"\n",
    "print(subject)\n",
    "print(subject[0],end=\"+\"+subject[3])"
   ]
  },
  {
   "cell_type": "code",
   "execution_count": 9,
   "metadata": {},
   "outputs": [
    {
     "name": "stdout",
     "output_type": "stream",
     "text": [
      "17\n",
      "0.7\n",
      "-3\n",
      "1\n",
      "0\n",
      "15\n",
      "(7, 10)\n"
     ]
    }
   ],
   "source": [
    "#arithmetic operation\n",
    "a = 7 \n",
    "b = 10\n",
    "print(a+b)\n",
    "print(a/b) # float always\n",
    "print(a-b)\n",
    "print(b//a)\n",
    "print(a//b)\n",
    "print(a|b)\n",
    "print(ModuleNotFoundError(a,b))\n"
   ]
  },
  {
   "cell_type": "code",
   "execution_count": 5,
   "metadata": {},
   "outputs": [
    {
     "name": "stdout",
     "output_type": "stream",
     "text": [
      "17\n",
      "25\n",
      "17\n"
     ]
    }
   ],
   "source": [
    "print(2+3*5)\n",
    "print((2+3)*5)\n",
    "print(2+(3*5)) # is equal to ...print(2+3*5)"
   ]
  },
  {
   "cell_type": "code",
   "execution_count": 11,
   "metadata": {},
   "outputs": [
    {
     "name": "stdout",
     "output_type": "stream",
     "text": [
      "\n"
     ]
    }
   ],
   "source": [
    "print()"
   ]
  }
 ],
 "metadata": {
  "kernelspec": {
   "display_name": "Python 3",
   "language": "python",
   "name": "python3"
  },
  "language_info": {
   "codemirror_mode": {
    "name": "ipython",
    "version": 3
   },
   "file_extension": ".py",
   "mimetype": "text/x-python",
   "name": "python",
   "nbconvert_exporter": "python",
   "pygments_lexer": "ipython3",
   "version": "3.10.13"
  }
 },
 "nbformat": 4,
 "nbformat_minor": 2
}
